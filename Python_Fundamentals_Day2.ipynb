{
 "cells": [
  {
   "cell_type": "code",
   "execution_count": null,
   "metadata": {},
   "outputs": [],
   "source": [
    "# Comment out the line -# Hash is used to comment the lines."
   ]
  },
  {
   "cell_type": "code",
   "execution_count": null,
   "metadata": {},
   "outputs": [],
   "source": [
    "#understganding Variables."
   ]
  },
  {
   "cell_type": "code",
   "execution_count": 1,
   "metadata": {},
   "outputs": [
    {
     "data": {
      "text/plain": [
       "8"
      ]
     },
     "execution_count": 1,
     "metadata": {},
     "output_type": "execute_result"
    }
   ],
   "source": [
    "x=5\n",
    "y=3\n",
    "x+y"
   ]
  },
  {
   "cell_type": "code",
   "execution_count": 11,
   "metadata": {},
   "outputs": [
    {
     "name": "stdout",
     "output_type": "stream",
     "text": [
      "Srinivas\n",
      "Srinivas rao\n",
      "SrinivasaRao Surey\n"
     ]
    }
   ],
   "source": [
    "#Rules for declaring a variables.\n",
    "#Python is case sensitive language.\n",
    "#1)No name space in between the variable name declaration.\n",
    "# first name = 'srinivas' #invalid declaration\n",
    "first_name = \"Srinivas\" # Valid declaration\n",
    "firstname = '''Srinivas rao'''# valid\n",
    "print(first_name)\n",
    "print(firstname)\n",
    "#2) Variable name should not start with numners.\n",
    " #2name='Faiyaz' #Invalid\n",
    "Name2 = \"SrinivasaRao Surey\" #Valid\n",
    "\n",
    "print(Name2)"
   ]
  },
  {
   "cell_type": "code",
   "execution_count": null,
   "metadata": {},
   "outputs": [],
   "source": [
    "# We should not use special characters while declaring a variable names. Ex @first_name=\"Srini\" - Invalid"
   ]
  },
  {
   "cell_type": "code",
   "execution_count": null,
   "metadata": {},
   "outputs": [],
   "source": [
    "#Introduction to Data types:\n",
    "#String\n",
    "#List\n",
    "#Tuple\n",
    "#Dictionary"
   ]
  },
  {
   "cell_type": "code",
   "execution_count": 12,
   "metadata": {},
   "outputs": [
    {
     "name": "stdout",
     "output_type": "stream",
     "text": [
      "SriniRao\n",
      "Srini\n",
      "Srinivasa Rao Surey\n"
     ]
    }
   ],
   "source": [
    "Name='SriniRao'\n",
    "Name1=\"Srini\"\n",
    "Name2='''Srinivasa Rao Surey'''\n",
    "print(Name)\n",
    "print(Name1)\n",
    "print(Name2)"
   ]
  },
  {
   "cell_type": "code",
   "execution_count": 13,
   "metadata": {},
   "outputs": [
    {
     "data": {
      "text/plain": [
       "str"
      ]
     },
     "execution_count": 13,
     "metadata": {},
     "output_type": "execute_result"
    }
   ],
   "source": [
    "type(Name)"
   ]
  },
  {
   "cell_type": "code",
   "execution_count": 14,
   "metadata": {},
   "outputs": [
    {
     "data": {
      "text/plain": [
       "int"
      ]
     },
     "execution_count": 14,
     "metadata": {},
     "output_type": "execute_result"
    }
   ],
   "source": [
    "type(x)"
   ]
  },
  {
   "cell_type": "code",
   "execution_count": 15,
   "metadata": {},
   "outputs": [
    {
     "name": "stdout",
     "output_type": "stream",
     "text": [
      "Srini\n"
     ]
    }
   ],
   "source": [
    "print(Name1.title())"
   ]
  },
  {
   "cell_type": "code",
   "execution_count": 16,
   "metadata": {},
   "outputs": [
    {
     "name": "stdout",
     "output_type": "stream",
     "text": [
      "srinirao\n"
     ]
    }
   ],
   "source": [
    "print(Name.lower())"
   ]
  },
  {
   "cell_type": "code",
   "execution_count": 17,
   "metadata": {},
   "outputs": [
    {
     "name": "stdout",
     "output_type": "stream",
     "text": [
      "SRINIVASA RAO SUREY\n"
     ]
    }
   ],
   "source": [
    "print(Name2.upper())"
   ]
  },
  {
   "cell_type": "code",
   "execution_count": null,
   "metadata": {},
   "outputs": [],
   "source": []
  }
 ],
 "metadata": {
  "kernelspec": {
   "display_name": "Python 3",
   "language": "python",
   "name": "python3"
  },
  "language_info": {
   "codemirror_mode": {
    "name": "ipython",
    "version": 3
   },
   "file_extension": ".py",
   "mimetype": "text/x-python",
   "name": "python",
   "nbconvert_exporter": "python",
   "pygments_lexer": "ipython3",
   "version": "3.7.6"
  }
 },
 "nbformat": 4,
 "nbformat_minor": 4
}
