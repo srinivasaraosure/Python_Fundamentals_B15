{
 "cells": [
  {
   "cell_type": "code",
   "execution_count": 1,
   "metadata": {},
   "outputs": [
    {
     "name": "stdout",
     "output_type": "stream",
     "text": [
      "[1, 2, 3, 4, 5, 6, 7, 8, 9, 10]\n"
     ]
    },
    {
     "data": {
      "text/plain": [
       "55"
      ]
     },
     "execution_count": 1,
     "metadata": {},
     "output_type": "execute_result"
    }
   ],
   "source": [
    "#Simple statistics with s list\n",
    "digits=[1,2,3,4,5,6,7,8,9,10]\n",
    "print(digits)\n",
    "min(digits)\n",
    "max(digits)\n",
    "sum(digits)"
   ]
  },
  {
   "cell_type": "code",
   "execution_count": 2,
   "metadata": {},
   "outputs": [
    {
     "data": {
      "text/plain": [
       "1"
      ]
     },
     "execution_count": 2,
     "metadata": {},
     "output_type": "execute_result"
    }
   ],
   "source": [
    "digits=[1,2,3,4,5,6,7,8,9,10]\n",
    "min(digits)"
   ]
  },
  {
   "cell_type": "code",
   "execution_count": 3,
   "metadata": {},
   "outputs": [
    {
     "data": {
      "text/plain": [
       "10"
      ]
     },
     "execution_count": 3,
     "metadata": {},
     "output_type": "execute_result"
    }
   ],
   "source": [
    "digits=[1,2,3,4,5,6,7,8,9,10]\n",
    "max(digits)"
   ]
  },
  {
   "cell_type": "code",
   "execution_count": 4,
   "metadata": {},
   "outputs": [
    {
     "name": "stdout",
     "output_type": "stream",
     "text": [
      "['ravi', 'ramu', 'ashok', 'tarun', 'shravya', 'mehta', 'deeksha']\n"
     ]
    }
   ],
   "source": [
    "#Slicing\n",
    "students=['ravi','ramu','ashok','tarun','shravya','mehta','deeksha']\n",
    "print(students)"
   ]
  },
  {
   "cell_type": "code",
   "execution_count": 5,
   "metadata": {},
   "outputs": [
    {
     "data": {
      "text/plain": [
       "7"
      ]
     },
     "execution_count": 5,
     "metadata": {},
     "output_type": "execute_result"
    }
   ],
   "source": [
    "len(students)"
   ]
  },
  {
   "cell_type": "code",
   "execution_count": 6,
   "metadata": {},
   "outputs": [
    {
     "name": "stdout",
     "output_type": "stream",
     "text": [
      "['ravi', 'ramu', 'ashok']\n"
     ]
    }
   ],
   "source": [
    "print(students[0:3])"
   ]
  },
  {
   "cell_type": "code",
   "execution_count": 7,
   "metadata": {},
   "outputs": [
    {
     "name": "stdout",
     "output_type": "stream",
     "text": [
      "['ashok', 'tarun', 'shravya']\n"
     ]
    }
   ],
   "source": [
    "print(students[2:5])"
   ]
  },
  {
   "cell_type": "code",
   "execution_count": 8,
   "metadata": {},
   "outputs": [
    {
     "name": "stdout",
     "output_type": "stream",
     "text": [
      "['shravya', 'mehta', 'deeksha']\n"
     ]
    }
   ],
   "source": [
    "print(students[4:])"
   ]
  },
  {
   "cell_type": "code",
   "execution_count": 10,
   "metadata": {},
   "outputs": [
    {
     "name": "stdout",
     "output_type": "stream",
     "text": [
      "['ravi', 'ramu', 'ashok', 'tarun', 'shravya', 'mehta', 'deeksha']\n",
      "['ravi', 'ashok', 'shravya', 'deeksha']\n"
     ]
    }
   ],
   "source": [
    "#print alternative items in list\n",
    "print(students[0:])\n",
    "print(students[0:7:2])"
   ]
  },
  {
   "cell_type": "code",
   "execution_count": 15,
   "metadata": {},
   "outputs": [
    {
     "name": "stdout",
     "output_type": "stream",
     "text": [
      "['dosa', 'idly', 'poori', 'bonda', 'upma', 'uttapm']\n",
      "['dosa', 'idly', 'poori', 'bonda', 'upma', 'uttapm', 'choclate']\n"
     ]
    }
   ],
   "source": [
    "#coping list\n",
    "my_food=['dosa','idly','poori','bonda','upma']\n",
    "my_food.append('uttapm')\n",
    "print(my_food)\n",
    "friends_food=my_food[:]\n",
    "friends_food.append('choclate')\n",
    "print(friends_food)"
   ]
  },
  {
   "cell_type": "code",
   "execution_count": 19,
   "metadata": {},
   "outputs": [
    {
     "name": "stdout",
     "output_type": "stream",
     "text": [
      "(200, 50)\n",
      "50\n",
      "(200, 50)\n"
     ]
    }
   ],
   "source": [
    "#Introduction to tuple is immutable data type ()\n",
    "\n",
    "dimensions=(200,50)\n",
    "print(dimensions)\n",
    "type(dimensions)\n",
    "#dimensions(250,100)\n",
    "print(dimensions[1])\n",
    "print(dimensions[:])"
   ]
  },
  {
   "cell_type": "markdown",
   "metadata": {},
   "source": []
  }
 ],
 "metadata": {
  "kernelspec": {
   "display_name": "Python 3",
   "language": "python",
   "name": "python3"
  },
  "language_info": {
   "codemirror_mode": {
    "name": "ipython",
    "version": 3
   },
   "file_extension": ".py",
   "mimetype": "text/x-python",
   "name": "python",
   "nbconvert_exporter": "python",
   "pygments_lexer": "ipython3",
   "version": "3.7.6"
  }
 },
 "nbformat": 4,
 "nbformat_minor": 4
}
