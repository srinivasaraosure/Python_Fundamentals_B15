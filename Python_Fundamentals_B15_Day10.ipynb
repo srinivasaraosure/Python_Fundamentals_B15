{
 "cells": [
  {
   "cell_type": "code",
   "execution_count": 7,
   "metadata": {},
   "outputs": [
    {
     "name": "stdout",
     "output_type": "stream",
     "text": [
      "{'name': 'ssrao', 'class': 'mscit', 'rollno': '43337'}\n"
     ]
    },
    {
     "data": {
      "text/plain": [
       "dict"
      ]
     },
     "execution_count": 7,
     "metadata": {},
     "output_type": "execute_result"
    }
   ],
   "source": [
    "student={'name':'ssrao','class':'mscit','rollno':'43337'}\n",
    "print(student)\n",
    "type(student)"
   ]
  },
  {
   "cell_type": "code",
   "execution_count": 6,
   "metadata": {},
   "outputs": [
    {
     "name": "stdout",
     "output_type": "stream",
     "text": [
      "green\n",
      "mscit\n",
      "43337\n"
     ]
    }
   ],
   "source": [
    "print(student['color'])\n",
    "print(student['class'])\n",
    "print(student['rollno'])"
   ]
  },
  {
   "cell_type": "code",
   "execution_count": 10,
   "metadata": {},
   "outputs": [
    {
     "name": "stdout",
     "output_type": "stream",
     "text": [
      "{}\n"
     ]
    }
   ],
   "source": [
    "student1={}\n",
    "print(student1)"
   ]
  },
  {
   "cell_type": "code",
   "execution_count": 11,
   "metadata": {},
   "outputs": [
    {
     "name": "stdout",
     "output_type": "stream",
     "text": [
      "{'name': 'chowdary', 'class': 'MBBS', 'rollno': '56789'}\n"
     ]
    }
   ],
   "source": [
    "student1['name']='chowdary'\n",
    "student1['class']='MBBS'\n",
    "student1['rollno']='56789'\n",
    "print(student1)"
   ]
  },
  {
   "cell_type": "code",
   "execution_count": 12,
   "metadata": {},
   "outputs": [
    {
     "name": "stdout",
     "output_type": "stream",
     "text": [
      "{'name': 'chowdary', 'class': 'MBBS'}\n"
     ]
    }
   ],
   "source": [
    "del student1['rollno']\n",
    "print(student1)"
   ]
  },
  {
   "cell_type": "code",
   "execution_count": 13,
   "metadata": {},
   "outputs": [
    {
     "name": "stdout",
     "output_type": "stream",
     "text": [
      "{'color': 'yellow', 'points': '10', 'length': '20', 'width': '30'}\n"
     ]
    }
   ],
   "source": [
    "#Update dictionaty values, we can update values but not keys.\n",
    "alien1={'color':'yellow','points':'10','length':'20','width':'30'}\n",
    "print(alien1)"
   ]
  },
  {
   "cell_type": "code",
   "execution_count": 14,
   "metadata": {},
   "outputs": [
    {
     "name": "stdout",
     "output_type": "stream",
     "text": [
      "{'color': 'green', 'points': '10', 'length': '20', 'width': '30'}\n"
     ]
    }
   ],
   "source": [
    "alien1['color']='green'\n",
    "print(alien1)"
   ]
  },
  {
   "cell_type": "code",
   "execution_count": 15,
   "metadata": {},
   "outputs": [
    {
     "name": "stdout",
     "output_type": "stream",
     "text": [
      "color\n",
      "green\n",
      "points\n",
      "10\n",
      "length\n",
      "20\n",
      "width\n",
      "30\n"
     ]
    }
   ],
   "source": [
    "#Applying  for llop in Dictonary\n",
    "for x,y in alien1.items():\n",
    "    print(x)\n",
    "    print(y)"
   ]
  },
  {
   "cell_type": "code",
   "execution_count": 16,
   "metadata": {},
   "outputs": [
    {
     "name": "stdout",
     "output_type": "stream",
     "text": [
      "color\n",
      "points\n",
      "length\n",
      "width\n"
     ]
    }
   ],
   "source": [
    "for x in alien1.keys():\n",
    "    print(x)"
   ]
  },
  {
   "cell_type": "code",
   "execution_count": 18,
   "metadata": {},
   "outputs": [
    {
     "name": "stdout",
     "output_type": "stream",
     "text": [
      "The values of green\n",
      "The values of 10\n",
      "The values of 20\n",
      "The values of 30\n"
     ]
    }
   ],
   "source": [
    "for y in alien1.values():\n",
    "    print(f'The values of {y}')"
   ]
  },
  {
   "cell_type": "code",
   "execution_count": null,
   "metadata": {},
   "outputs": [],
   "source": []
  }
 ],
 "metadata": {
  "kernelspec": {
   "display_name": "Python 3",
   "language": "python",
   "name": "python3"
  },
  "language_info": {
   "codemirror_mode": {
    "name": "ipython",
    "version": 3
   },
   "file_extension": ".py",
   "mimetype": "text/x-python",
   "name": "python",
   "nbconvert_exporter": "python",
   "pygments_lexer": "ipython3",
   "version": "3.7.6"
  }
 },
 "nbformat": 4,
 "nbformat_minor": 4
}
