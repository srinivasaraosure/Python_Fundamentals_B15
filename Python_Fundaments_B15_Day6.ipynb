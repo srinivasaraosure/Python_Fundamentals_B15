{
 "cells": [
  {
   "cell_type": "code",
   "execution_count": 13,
   "metadata": {},
   "outputs": [
    {
     "name": "stdout",
     "output_type": "stream",
     "text": [
      "['ashok', 'deeksha', 'varshitha', 'prasanthi', 'srinivas', 'paparao']\n",
      "you are doing good job,ashok\n",
      "you are doing good job,ashok\n",
      "\t\n",
      "you are doing good job,deeksha\n",
      "you are doing good job,deeksha\n",
      "\t\n",
      "you are doing good job,varshitha\n",
      "you are doing good job,varshitha\n",
      "\t\n",
      "you are doing good job,prasanthi\n",
      "you are doing good job,prasanthi\n",
      "\t\n",
      "you are doing good job,srinivas\n",
      "you are doing good job,srinivas\n",
      "\t\n",
      "you are doing good job,paparao\n",
      "you are doing good job,paparao\n",
      "\t\n"
     ]
    }
   ],
   "source": [
    "#Introduction to loops statments for loop\n",
    "students=['ashok','deeksha','varshitha','prasanthi','srinivas','paparao']\n",
    "print(students)\n",
    "for x in students:\n",
    "    print(f\"you are doing good job,{x}\")\n",
    "    print(f\"you are doing good job,{x}\\n\\t\")\n"
   ]
  }
 ],
 "metadata": {
  "kernelspec": {
   "display_name": "Python 3",
   "language": "python",
   "name": "python3"
  },
  "language_info": {
   "codemirror_mode": {
    "name": "ipython",
    "version": 3
   },
   "file_extension": ".py",
   "mimetype": "text/x-python",
   "name": "python",
   "nbconvert_exporter": "python",
   "pygments_lexer": "ipython3",
   "version": "3.7.6"
  }
 },
 "nbformat": 4,
 "nbformat_minor": 4
}
