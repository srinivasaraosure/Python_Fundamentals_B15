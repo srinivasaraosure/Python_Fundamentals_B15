{
 "cells": [
  {
   "cell_type": "code",
   "execution_count": null,
   "metadata": {},
   "outputs": [],
   "source": [
    "#Introduction to Classes\n",
    "Class\n",
    "Method\n",
    "Attributes\n",
    "Object"
   ]
  },
  {
   "cell_type": "code",
   "execution_count": 1,
   "metadata": {},
   "outputs": [],
   "source": [
    "class Test:\n",
    "    \"\"\"Creating the test calss\"\"\"\n",
    "    def name(self):\n",
    "        print('This is my first method')\n",
    "    def name2(self):\n",
    "        print('This is my second method')\n"
   ]
  },
  {
   "cell_type": "code",
   "execution_count": 2,
   "metadata": {},
   "outputs": [
    {
     "name": "stdout",
     "output_type": "stream",
     "text": [
      "This is my first method\n",
      "This is my second method\n",
      "This is my first method\n",
      "This is my second method\n"
     ]
    }
   ],
   "source": [
    "#To access methods we need to create objects\n",
    "abc = Test()\n",
    "abc.name()\n",
    "abc.name2()\n",
    "y = Test()\n",
    "y.name()\n",
    "y.name2()"
   ]
  },
  {
   "cell_type": "code",
   "execution_count": null,
   "metadata": {},
   "outputs": [],
   "source": []
  }
 ],
 "metadata": {
  "kernelspec": {
   "display_name": "Python 3",
   "language": "python",
   "name": "python3"
  },
  "language_info": {
   "codemirror_mode": {
    "name": "ipython",
    "version": 3
   },
   "file_extension": ".py",
   "mimetype": "text/x-python",
   "name": "python",
   "nbconvert_exporter": "python",
   "pygments_lexer": "ipython3",
   "version": "3.7.6"
  }
 },
 "nbformat": 4,
 "nbformat_minor": 4
}
