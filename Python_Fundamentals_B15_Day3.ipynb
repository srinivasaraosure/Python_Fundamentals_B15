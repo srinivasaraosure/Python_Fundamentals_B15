{
 "cells": [
  {
   "cell_type": "code",
   "execution_count": 8,
   "metadata": {},
   "outputs": [
    {
     "name": "stdout",
     "output_type": "stream",
     "text": [
      "srinivas surey\n"
     ]
    }
   ],
   "source": [
    "first_name='srinivasa'\n",
    "last_name='surey'\n",
    "fullname= f\"{first_name} {last_name}\"\n",
    "print(fullname)"
   ]
  },
  {
   "cell_type": "code",
   "execution_count": 11,
   "metadata": {},
   "outputs": [
    {
     "name": "stdout",
     "output_type": "stream",
     "text": [
      "srinivasa rao surey\n"
     ]
    }
   ],
   "source": [
    "first_name='srinivasa'\n",
    "middle_name='rao'\n",
    "last_name='surey'\n",
    "fullname= f\"{first_name} {middle_name} {last_name}\"\n",
    "print(fullname)"
   ]
  },
  {
   "cell_type": "code",
   "execution_count": 16,
   "metadata": {},
   "outputs": [
    {
     "name": "stdout",
     "output_type": "stream",
     "text": [
      "Thanks for your good work: srinivasa rao surey\n"
     ]
    }
   ],
   "source": [
    "message= f\"Thanks for your good work: {first_name} {middle_name} {last_name}\"\n",
    "print(message)"
   ]
  },
  {
   "cell_type": "code",
   "execution_count": 23,
   "metadata": {},
   "outputs": [
    {
     "name": "stdout",
     "output_type": "stream",
     "text": [
      "python c c++ java\n",
      "favorite languages:\n",
      " python\n",
      " c\n",
      " c++\n",
      " java\n",
      "\n",
      "favorite languages:\t\n",
      "python \t\n",
      "c \t\n",
      "c++ \t\n",
      "java\n",
      "favorite languages:\n",
      "\tpython \n",
      "\tc \n",
      "\tc++ \n",
      "\tjava\n"
     ]
    }
   ],
   "source": [
    "# Adding spaces in strings\n",
    "print('python','c','c++','java')\n",
    "\n",
    "print('favorite languages:\\n python\\n','c\\n','c++\\n','java\\n')\n",
    "\n",
    "print('favorite languages:\\t\\npython','\\t\\nc','\\t\\nc++','\\t\\njava')\n",
    "\n",
    "print('favorite languages:\\n\\tpython','\\n\\tc','\\n\\tc++','\\n\\tjava')"
   ]
  },
  {
   "cell_type": "code",
   "execution_count": 25,
   "metadata": {},
   "outputs": [
    {
     "name": "stdout",
     "output_type": "stream",
     "text": [
      " Rao\n",
      "Rao \n",
      " Rao \n"
     ]
    },
    {
     "data": {
      "text/plain": [
       "'Rao'"
      ]
     },
     "execution_count": 25,
     "metadata": {},
     "output_type": "execute_result"
    }
   ],
   "source": [
    "x=\" Rao\"\n",
    "print(x)\n",
    "x.lstrip()\n",
    "\n",
    "y=\"Rao \"\n",
    "print(y)\n",
    "y.rstrip()\n",
    "\n",
    "z=\" Rao \"\n",
    "print(z)\n",
    "z.strip()"
   ]
  },
  {
   "cell_type": "code",
   "execution_count": null,
   "metadata": {},
   "outputs": [],
   "source": []
  }
 ],
 "metadata": {
  "kernelspec": {
   "display_name": "Python 3",
   "language": "python",
   "name": "python3"
  },
  "language_info": {
   "codemirror_mode": {
    "name": "ipython",
    "version": 3
   },
   "file_extension": ".py",
   "mimetype": "text/x-python",
   "name": "python",
   "nbconvert_exporter": "python",
   "pygments_lexer": "ipython3",
   "version": "3.7.6"
  }
 },
 "nbformat": 4,
 "nbformat_minor": 4
}
