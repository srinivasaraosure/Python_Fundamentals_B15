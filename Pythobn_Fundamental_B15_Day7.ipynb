{
 "cells": [
  {
   "cell_type": "code",
   "execution_count": 13,
   "metadata": {},
   "outputs": [
    {
     "name": "stdout",
     "output_type": "stream",
     "text": [
      "['ashok', 'deeksha', 'varshitha', 'prasanthi', 'srinivas', 'paparao']\n",
      "you are doing good job,ashok\n",
      "you are doing good job,ashok\n",
      "\t\n",
      "you are doing good job,deeksha\n",
      "you are doing good job,deeksha\n",
      "\t\n",
      "you are doing good job,varshitha\n",
      "you are doing good job,varshitha\n",
      "\t\n",
      "you are doing good job,prasanthi\n",
      "you are doing good job,prasanthi\n",
      "\t\n",
      "you are doing good job,srinivas\n",
      "you are doing good job,srinivas\n",
      "\t\n",
      "you are doing good job,paparao\n",
      "you are doing good job,paparao\n",
      "\t\n"
     ]
    }
   ],
   "source": [
    "#Introduction to loops statments for loop\n",
    "students=['ashok','deeksha','varshitha','prasanthi','srinivas','paparao']\n",
    "print(students)\n",
    "for x in students:\n",
    "    print(f\"you are doing good job,{x}\")\n",
    "    print(f\"you are doing good job,{x}\\n\\t\")\n"
   ]
  },
  {
   "cell_type": "code",
   "execution_count": 15,
   "metadata": {},
   "outputs": [
    {
     "name": "stdout",
     "output_type": "stream",
     "text": [
      "['audi', 'benz', 'bmw', 'toyoto', 'jaguar', 'maruthi']\n",
      "Audi\n",
      "Benz\n",
      "Bmw\n",
      "Toyoto\n",
      "Jaguar\n",
      "MARUTHI\n"
     ]
    }
   ],
   "source": [
    "#Introduction to if condition\n",
    "cars=['audi','benz','bmw','toyoto','jaguar','maruthi']\n",
    "print(cars)\n",
    "for car in cars:\n",
    "    if car=='maruthi':\n",
    "        print(car.upper())\n",
    "    else:\n",
    "        print(car.title())"
   ]
  },
  {
   "cell_type": "code",
   "execution_count": 16,
   "metadata": {},
   "outputs": [
    {
     "name": "stdout",
     "output_type": "stream",
     "text": [
      "tell me some thing i will repeat for youHi all good morning welcome to python world\n",
      "Hi all good morning welcome to python world\n"
     ]
    }
   ],
   "source": [
    "#If stamenet used to validate the conditions\n",
    "#User accepted inputs:\n",
    "message=input(\"tell me some thing i will repeat for you\")\n",
    "print(message)"
   ]
  },
  {
   "cell_type": "code",
   "execution_count": 17,
   "metadata": {},
   "outputs": [
    {
     "name": "stdout",
     "output_type": "stream",
     "text": [
      "Please enter your nameSrinivasaRao Sure\n",
      "\n",
      "Hello good you have in session:,('SrinivasaRao Sure',)\n"
     ]
    }
   ],
   "source": [
    "name=input(\"Please enter your name\"),\n",
    "print(f\"\\nHello good you have in session:,{name}\")"
   ]
  },
  {
   "cell_type": "code",
   "execution_count": null,
   "metadata": {},
   "outputs": [],
   "source": [
    "#Always by default input session will be considered the data entered as a string by default"
   ]
  },
  {
   "cell_type": "code",
   "execution_count": 27,
   "metadata": {},
   "outputs": [
    {
     "name": "stdout",
     "output_type": "stream",
     "text": [
      "Please enter your height6.5\n",
      "6.5\n"
     ]
    },
    {
     "data": {
      "text/plain": [
       "True"
      ]
     },
     "execution_count": 27,
     "metadata": {},
     "output_type": "execute_result"
    }
   ],
   "source": [
    "height=input(\"Please enter your height\")\n",
    "print(height)\n",
    "type(height)\n",
    "#type casting\n",
    "height=float(height)\n",
    "height>=5.5\n",
    "#height=int(height)\n",
    "#height>=7"
   ]
  },
  {
   "cell_type": "code",
   "execution_count": 29,
   "metadata": {},
   "outputs": [
    {
     "name": "stdout",
     "output_type": "stream",
     "text": [
      "Please enter your age18\n",
      "you are eligible for voting\n"
     ]
    }
   ],
   "source": [
    "#Case study Bulding simple voting application\n",
    "#Requirement: A person should have age of 18 or more years for eligible for voting application\n",
    "age=input(\"Please enter your age\")\n",
    "age=int(age)\n",
    "if age>=18:\n",
    "    print(\"you are eligible for voting\")\n",
    "else:\n",
    "    print(\"you are not eligible for voting now, please try at the age of 18 years\")\n",
    "    "
   ]
  },
  {
   "cell_type": "code",
   "execution_count": null,
   "metadata": {},
   "outputs": [],
   "source": []
  },
  {
   "cell_type": "code",
   "execution_count": null,
   "metadata": {},
   "outputs": [],
   "source": []
  }
 ],
 "metadata": {
  "kernelspec": {
   "display_name": "Python 3",
   "language": "python",
   "name": "python3"
  },
  "language_info": {
   "codemirror_mode": {
    "name": "ipython",
    "version": 3
   },
   "file_extension": ".py",
   "mimetype": "text/x-python",
   "name": "python",
   "nbconvert_exporter": "python",
   "pygments_lexer": "ipython3",
   "version": "3.7.6"
  }
 },
 "nbformat": 4,
 "nbformat_minor": 4
}
