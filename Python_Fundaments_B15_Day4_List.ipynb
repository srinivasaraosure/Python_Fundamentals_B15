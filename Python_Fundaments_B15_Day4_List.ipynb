{
 "cells": [
  {
   "cell_type": "code",
   "execution_count": 10,
   "metadata": {},
   "outputs": [
    {
     "name": "stdout",
     "output_type": "stream",
     "text": [
      "['srinivas', 'shravya', 'soumya', 'Ramya', 'Sneha', 'Jyothy']\n",
      "shravya\n",
      "['soumya', 'Ramya']\n",
      "['shravya', 'soumya', 'Ramya', 'Sneha', 'Jyothy']\n",
      "['Jyothy']\n",
      "Sneha\n",
      "['soumya', 'Ramya', 'Sneha']\n"
     ]
    }
   ],
   "source": [
    "mystudents=['srinivas','shravya','soumya','Ramya','Sneha','Jyothy']\n",
    "print(mystudents)\n",
    "type(mystudents)\n",
    "print(mystudents[1])\n",
    "print(mystudents[2:4])\n",
    "print(mystudents[1:])\n",
    "print(mystudents[-1:])\n",
    "print(mystudents[-2])\n",
    "print(mystudents[-4:-1])"
   ]
  },
  {
   "cell_type": "code",
   "execution_count": null,
   "metadata": {},
   "outputs": [],
   "source": [
    "#How to Reassign and delete the elements in list"
   ]
  },
  {
   "cell_type": "code",
   "execution_count": 11,
   "metadata": {},
   "outputs": [
    {
     "name": "stdout",
     "output_type": "stream",
     "text": [
      "['srinivas', 'shravya', 'soumya', 'Ramya', 'Sneha', 'Jyothy']\n"
     ]
    }
   ],
   "source": [
    "print(mystudents)\n"
   ]
  },
  {
   "cell_type": "code",
   "execution_count": 12,
   "metadata": {},
   "outputs": [
    {
     "name": "stdout",
     "output_type": "stream",
     "text": [
      "['srinivas', 'Krishna', 'soumya', 'Ramya', 'Sneha', 'Jyothy']\n"
     ]
    }
   ],
   "source": [
    "#Reassign the Shravya to Krishna'\n",
    "mystudents[1]='Krishna'\n",
    "print(mystudents)"
   ]
  },
  {
   "cell_type": "code",
   "execution_count": 14,
   "metadata": {},
   "outputs": [
    {
     "name": "stdout",
     "output_type": "stream",
     "text": [
      "['srinivas', 'Krishna', 'soumya', 'Ramya', 'Sneha', 'Jyothy', 'harsha']\n"
     ]
    }
   ],
   "source": [
    "#Req I want to add elements list using \"Append\" key word.\n",
    "mystudents.append(\"harsha\")\n",
    "print(mystudents)"
   ]
  },
  {
   "cell_type": "code",
   "execution_count": 18,
   "metadata": {},
   "outputs": [
    {
     "name": "stdout",
     "output_type": "stream",
     "text": [
      "['srinivas', 'Balu', 'Krishna', 'Balu', 'Balu', 'soumya', 'Ramya', 'Sneha', 'Jyothy', 'harsha']\n"
     ]
    }
   ],
   "source": [
    "#Req I want to add \"Balu to 2nd position\"\n",
    "mystudents.insert(1,'Balu')\n",
    "print(mystudents)"
   ]
  },
  {
   "cell_type": "code",
   "execution_count": 19,
   "metadata": {},
   "outputs": [
    {
     "name": "stdout",
     "output_type": "stream",
     "text": [
      "['srinivas', 'Krishna', 'Balu', 'Balu', 'soumya', 'Ramya', 'Sneha', 'Jyothy', 'harsha']\n"
     ]
    }
   ],
   "source": [
    "# Remove elements in list \"del\"\n",
    "del mystudents[1]\n",
    "print(mystudents)"
   ]
  },
  {
   "cell_type": "code",
   "execution_count": 20,
   "metadata": {},
   "outputs": [
    {
     "name": "stdout",
     "output_type": "stream",
     "text": [
      "['srinivas', 'Krishna', 'Balu', 'soumya', 'Ramya', 'Sneha', 'Jyothy', 'harsha']\n"
     ]
    }
   ],
   "source": [
    "del mystudents[2]\n",
    "print(mystudents)"
   ]
  },
  {
   "cell_type": "code",
   "execution_count": 21,
   "metadata": {},
   "outputs": [
    {
     "name": "stdout",
     "output_type": "stream",
     "text": [
      "['srinivas', 'Krishna', 'Balu', 'soumya', 'Ramya', 'Sneha', 'Jyothy', 'harsha', 'Balaji']\n"
     ]
    }
   ],
   "source": [
    "mystudents.append(\"Balaji\")\n",
    "print(mystudents)"
   ]
  },
  {
   "cell_type": "code",
   "execution_count": null,
   "metadata": {},
   "outputs": [],
   "source": []
  }
 ],
 "metadata": {
  "kernelspec": {
   "display_name": "Python 3",
   "language": "python",
   "name": "python3"
  },
  "language_info": {
   "codemirror_mode": {
    "name": "ipython",
    "version": 3
   },
   "file_extension": ".py",
   "mimetype": "text/x-python",
   "name": "python",
   "nbconvert_exporter": "python",
   "pygments_lexer": "ipython3",
   "version": "3.7.6"
  }
 },
 "nbformat": 4,
 "nbformat_minor": 4
}
